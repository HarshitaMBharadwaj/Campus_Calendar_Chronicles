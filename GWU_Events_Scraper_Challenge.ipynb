{
  "nbformat": 4,
  "nbformat_minor": 0,
  "metadata": {
    "colab": {
      "provenance": [],
      "include_colab_link": true
    },
    "kernelspec": {
      "name": "python3",
      "display_name": "Python 3"
    },
    "language_info": {
      "name": "python"
    }
  },
  "cells": [
    {
      "cell_type": "markdown",
      "metadata": {
        "id": "view-in-github",
        "colab_type": "text"
      },
      "source": [
        "<a href=\"https://colab.research.google.com/github/HarshitaMBharadwaj/Campus_Calendar_Chronicles/blob/main/GWU_Events_Scraper_Challenge.ipynb\" target=\"_parent\"><img src=\"https://colab.research.google.com/assets/colab-badge.svg\" alt=\"Open In Colab\"/></a>"
      ]
    },
    {
      "cell_type": "code",
      "source": [
        "import requests\n",
        "from bs4 import BeautifulSoup\n",
        "from IPython.display import Image, display\n",
        "import re\n",
        "\n",
        "day_mapping = {\n",
        "    \"mon\": \"Monday\",\n",
        "    \"tue\": \"Tuesday\",\n",
        "    \"wed\": \"Wednesday\",\n",
        "    \"thu\": \"Thursday\",\n",
        "    \"fri\": \"Friday\",\n",
        "    \"sat\": \"Saturday\",\n",
        "    \"sun\": \"Sunday\"\n",
        "}\n",
        "\n",
        "EVENTS_PAGE_URL = \"https://calendar.gwu.edu/calendar\"\n",
        "response = requests.get(EVENTS_PAGE_URL)\n",
        "soup = BeautifulSoup(response.text, \"html.parser\")\n",
        "\n",
        "def times_split(time_str):\n",
        "    tm = []\n",
        "    time_ele = time_str.split()\n",
        "    for t in time_ele:\n",
        "        if \"am\" in t.lower() or \"pm\" in t.lower():\n",
        "            tm.append(t)\n",
        "    if len(tm) >= 2:\n",
        "        start_time = tm[0]\n",
        "        end_time = tm[1]\n",
        "        return start_time, end_time\n",
        "    else:\n",
        "        return None, None\n",
        "\n",
        "eventlist = soup.find_all(\"div\", class_=\"em-card_text\")\n",
        "\n",
        "events = []\n",
        "\n",
        "\n",
        "for event in eventlist:\n",
        "    event_dict = {}\n",
        "    title = event.find(\"h3\", class_=\"em-card_title\").text\n",
        "    date_elem = event.find(\"p\", class_=\"em-card_event-text\")\n",
        "\n",
        "    for d in date_elem:\n",
        "        date_info=d.strip()\n",
        "\n",
        "\n",
        "    if date_elem:\n",
        "        try:\n",
        "            datestr = date_elem.text.strip()\n",
        "            datesp = datestr.split(\",\")\n",
        "            if len(datesp) > 1:\n",
        "                day = datesp[0].strip()\n",
        "                full_day = day_mapping.get(day.lower(), \"Invalid Day\")\n",
        "                date_no = datesp[1].strip()\n",
        "                date_number = re.search(r'\\d+', date_no).group()\n",
        "                date_number = int(date_number)\n",
        "\n",
        "            else:\n",
        "                day = \"NONE\"\n",
        "\n",
        "                date_no = \"NONE\"\n",
        "        except:\n",
        "            print(\"Error parsing date\")\n",
        "    else:\n",
        "        day = \"NONE\"\n",
        "\n",
        "        date_no = \"NONE\"\n",
        "\n",
        "    start_time, end_time = times_split(datestr)\n",
        "\n",
        "    p_tags = event.find_all(\"p\", class_=\"em-card_event-text\")\n",
        "\n",
        "    if len(p_tags) > 1:\n",
        "        location_text = p_tags[1].text.strip()\n",
        "    else:\n",
        "        location_text = \"NONE\"\n",
        "\n",
        "    image_div = event.find_previous(\"div\", class_=\"em-card_image\")\n",
        "    if image_div:\n",
        "        img_tag = image_div.find(\"img\")\n",
        "        if img_tag:\n",
        "            img_url = img_tag[\"src\"]\n",
        "\n",
        "\n",
        "\n",
        "    event_tags = []\n",
        "    for et in event.find_all('a', class_='em-card_tag'):\n",
        "        if any(c.isalpha() for c in et.text):\n",
        "            event_tags.append(et.text)\n",
        "\n",
        "\n",
        "\n",
        "    primary_event_type = ', '.join(event_tags) if event_tags else \"N/A\"\n",
        "\n",
        "\n",
        "    # Add event details to the dictionary\n",
        "    event_dict[\"title\"] = title\n",
        "    event_dict[\"date_info\"] = date_info\n",
        "    event_dict[\"day\"] = day\n",
        "    event_dict[\"full_day\"] = full_day\n",
        "    event_dict[\"date\"] = date_number\n",
        "    event_dict[\"start_time\"] = start_time\n",
        "    event_dict[\"end_time\"] = end_time\n",
        "    event_dict[\"location\"] = location_text\n",
        "    event_dict[\"img_url\"] = img_url\n",
        "    event_dict[\"primary_event_type\"] = primary_event_type\n",
        "\n",
        "\n",
        "    events.append(event_dict)\n",
        "\n",
        "\n",
        "\n",
        "# Print the list of events (for testing)\n",
        "print(\"-------------------\")\n",
        "\n",
        "print(\"EVENTS AS DICT:\")\n",
        "\n",
        "print(\"-------------------\")\n",
        "\n",
        "print(events)\n",
        "\n"
      ],
      "metadata": {
        "colab": {
          "base_uri": "https://localhost:8080/"
        },
        "id": "x9mCHyvtHPwc",
        "outputId": "aee7f424-2a23-428c-d50b-decf4ea8256c"
      },
      "execution_count": 7,
      "outputs": [
        {
          "output_type": "stream",
          "name": "stdout",
          "text": [
            "-------------------\n",
            "EVENTS AS DICT:\n",
            "-------------------\n",
            "[{'title': 'Last day to add a course on GWeb', 'date_info': 'Sun, Jan 28, 2024', 'day': 'Sun', 'full_day': 'Sunday', 'date': 28, 'start_time': None, 'end_time': None, 'location': 'NONE', 'img_url': 'https://localist-images.azureedge.net/photos/42405866472615/card/2cb2537c5ee68a257d449754bc3c8efb6e16c9e5.jpg', 'primary_event_type': 'N/A'}, {'title': 'ADPS Spring 2024 Recruitment- DuPont Farmer’s Market Trip', 'date_info': 'Sun, Jan 28, 2024 10am to 12pm', 'day': 'Sun', 'full_day': 'Sunday', 'date': 28, 'start_time': '10am', 'end_time': '12pm', 'location': 'Kogan Plaza Clocktower', 'img_url': 'https://localist-images.azureedge.net/photos/42241821362097/card/2df672dda2dbd1ddc52531f98842065734b9455a.jpg', 'primary_event_type': 'Student Life'}, {'title': 'Sip & Study', 'date_info': 'Sun, Jan 28, 2024 12pm to 2pm', 'day': 'Sun', 'full_day': 'Sunday', 'date': 28, 'start_time': '12pm', 'end_time': '2pm', 'location': 'Strong Hall Common Room', 'img_url': 'https://localist-images.azureedge.net/photos/42241821362097/card/2df672dda2dbd1ddc52531f98842065734b9455a.jpg', 'primary_event_type': 'Student Life'}, {'title': 'Anchor Sunday Gathering', 'date_info': 'Sun, Jan 28, 2024 12:15pm to 2pm', 'day': 'Sun', 'full_day': 'Sunday', 'date': 28, 'start_time': '12:15pm', 'end_time': '2pm', 'location': 'USC 310', 'img_url': 'https://localist-images.azureedge.net/photos/45390290708542/card/20123b4fa9bec1e61666c70242d307c4bd3f9921.jpg', 'primary_event_type': 'Student Life'}, {'title': 'Info Session #5', 'date_info': 'Sun, Jan 28, 2024 1pm to 2pm', 'day': 'Sun', 'full_day': 'Sunday', 'date': 28, 'start_time': '1pm', 'end_time': '2pm', 'location': 'Funger Hall 221', 'img_url': 'https://localist-images.azureedge.net/photos/42241821362097/card/2df672dda2dbd1ddc52531f98842065734b9455a.jpg', 'primary_event_type': 'Student Life'}, {'title': 'Soulful Sundays', 'date_info': 'Sun, Jan 28, 2024 5pm to 7pm', 'day': 'Sun', 'full_day': 'Sunday', 'date': 28, 'start_time': '5pm', 'end_time': '7pm', 'location': 'Thurston Hall', 'img_url': 'https://localist-images.azureedge.net/photos/45390292750541/card/770cd8ae554b747dceac8c1ff2830ce195bc9d21.jpg', 'primary_event_type': 'Student Life'}, {'title': 'Ballimaaran - The Piyush Mishra Project', 'date_info': 'Sun, Jan 28, 2024 6pm to 7:30pm', 'day': 'Sun', 'full_day': 'Sunday', 'date': 28, 'start_time': '6pm', 'end_time': '7:30pm', 'location': 'Lisner Auditorium', 'img_url': 'https://localist-images.azureedge.net/photos/44826667500769/card/5d3a18c52d59a98546beb2cf322eb2937872eed1.jpg', 'primary_event_type': 'Arts & Culture'}, {'title': 'FAM (Food After Mass)', 'date_info': 'Sun, Jan 28, 2024 6:30pm to 7:30pm', 'day': 'Sun', 'full_day': 'Sunday', 'date': 28, 'start_time': '6:30pm', 'end_time': '7:30pm', 'location': 'St Stephen-Martyr Church', 'img_url': 'https://localist-images.azureedge.net/photos/45469924693794/card/ca2569056ea6a6af33761fd8eece62853f95fb66.jpg', 'primary_event_type': 'Student Life'}, {'title': 'SAGA asian american bible study', 'date_info': 'Sun, Jan 28, 2024 7pm to 8pm', 'day': 'Sun', 'full_day': 'Sunday', 'date': 28, 'start_time': '7pm', 'end_time': '8pm', 'location': 'District B206', 'img_url': 'https://localist-images.azureedge.net/photos/45390290797637/card/59a3fafef3aa2496b7c0792b7f134bc635d5e4c9.jpg', 'primary_event_type': 'Student Life'}, {'title': '2024 Inclusive Excellence Week at the Elliott School of International Affairs', 'date_info': 'Mon, Jan 29, 2024 - Thu, Feb 1, 2024', 'day': 'Mon', 'full_day': 'Monday', 'date': 29, 'start_time': None, 'end_time': None, 'location': '1957 E Street NW', 'img_url': 'https://localist-images.azureedge.net/photos/42305185448931/card/4c14b36d37de8f24bc761c75d2697e47dc111e9d.jpg', 'primary_event_type': 'Academic'}, {'title': 'Elliott School Graduate Programs In-Person Information Session', 'date_info': 'Mon, Jan 29, 2024 11am to 12pm', 'day': 'Mon', 'full_day': 'Monday', 'date': 29, 'start_time': '11am', 'end_time': '12pm', 'location': '1957 E Street NW, Suite 301', 'img_url': 'https://localist-images.azureedge.net/photos/42305185448931/card/4c14b36d37de8f24bc761c75d2697e47dc111e9d.jpg', 'primary_event_type': 'Admissions'}, {'title': 'SNA Lunch & Learn: Inova Health at GW Nursing', 'date_info': 'Mon, Jan 29, 2024 11:30am to 12:30pm', 'day': 'Mon', 'full_day': 'Monday', 'date': 29, 'start_time': '11:30am', 'end_time': '12:30pm', 'location': 'Innovation Hall, Lobby', 'img_url': 'https://localist-images.azureedge.net/photos/45455774153197/card/9d51a1a4a36ae7f5804736f67741af189658da26.jpg', 'primary_event_type': 'Academic'}, {'title': 'GW Nursing Student Club Fair', 'date_info': 'Mon, Jan 29, 2024 12pm to 1pm', 'day': 'Mon', 'full_day': 'Monday', 'date': 29, 'start_time': '12pm', 'end_time': '1pm', 'location': 'Innovation Hall, Lobby', 'img_url': 'https://localist-images.azureedge.net/photos/45259818139121/card/279d4c78903fefa57839b341ec97d7bf42eb8e7c.jpg', 'primary_event_type': 'Student Organizations'}, {'title': 'Spring Recruitment Fraternity Rush', 'date_info': 'Mon, Jan 29, 2024 12pm to 12pm', 'day': 'Mon', 'full_day': 'Monday', 'date': 29, 'start_time': '12pm', 'end_time': '12pm', 'location': 'University Student Center', 'img_url': 'https://localist-images.azureedge.net/photos/45346024287380/card/d2d1baab10da7e8c320585e3fc81301fa8582470.jpg', 'primary_event_type': 'Student Life'}, {'title': 'Microeconomic Seminar: Taha Choukhmane, MIT Sloan', 'date_info': 'Mon, Jan 29, 2024 12:30pm to 2pm', 'day': 'Mon', 'full_day': 'Monday', 'date': 29, 'start_time': '12:30pm', 'end_time': '2pm', 'location': 'Hall of Government, 321', 'img_url': 'https://localist-images.azureedge.net/photos/45376815846861/card/c9d1963032802384aeacbecd3f7b945d29cef434.jpg', 'primary_event_type': 'Academic'}, {'title': 'Everything is Fine', 'date_info': 'Mon, Jan 29, 2024 1pm to 5pm', 'day': 'Mon', 'full_day': 'Monday', 'date': 29, 'start_time': '1pm', 'end_time': '5pm', 'location': 'Flagg Building, Gallery 11', 'img_url': 'https://localist-images.azureedge.net/photos/44933226606010/card/887bc6f9a99169012ee476cb45f6a90d2e6d317f.jpg', 'primary_event_type': 'Arts & Culture'}, {'title': 'Introduction to Python Programming', 'date_info': 'Mon, Jan 29, 2024 1pm to 3:45pm', 'day': 'Mon', 'full_day': 'Monday', 'date': 29, 'start_time': '1pm', 'end_time': '3:45pm', 'location': 'Gelman Library', 'img_url': 'https://localist-images.azureedge.net/photos/45434558609297/card/edec7d5b0f132e606fbd0f431be678916ea5834a.jpg', 'primary_event_type': 'N/A'}, {'title': 'Using Classroom Assessment Techniques (CATs) to Increase Engagement', 'date_info': 'Mon, Jan 29, 2024 2pm to 3pm', 'day': 'Mon', 'full_day': 'Monday', 'date': 29, 'start_time': '2pm', 'end_time': '3pm', 'location': 'Gelman Library', 'img_url': 'https://localist-images.azureedge.net/photos/45434564726917/card/66c5cbd3434982799ac9810c0c7469bd55a4e416.jpg', 'primary_event_type': 'N/A'}, {'title': 'Weekly Meditation Workshop', 'date_info': 'Mon, Jan 29, 2024 2pm to 4pm', 'day': 'Mon', 'full_day': 'Monday', 'date': 29, 'start_time': '2pm', 'end_time': '4pm', 'location': 'University Student Center', 'img_url': 'https://localist-images.azureedge.net/photos/45310580777934/card/1412e18df39184d4ec64f26991d77d1c1b9d09c6.jpg', 'primary_event_type': 'Student Life'}, {'title': 'GWSB 4+1 Information Session & Webinar', 'date_info': 'Mon, Jan 29, 2024 5:30pm to 6pm', 'day': 'Mon', 'full_day': 'Monday', 'date': 29, 'start_time': '5:30pm', 'end_time': '6pm', 'location': 'Virtual Event', 'img_url': 'https://localist-images.azureedge.net/photos/45092255779752/card/018e129e9bd455f8358c35ebda63be08253ab4de.jpg', 'primary_event_type': 'Admissions'}, {'title': 'Info Session #6', 'date_info': 'Mon, Jan 29, 2024 6pm to 7pm', 'day': 'Mon', 'full_day': 'Monday', 'date': 29, 'start_time': '6pm', 'end_time': '7pm', 'location': 'West Hall B111', 'img_url': 'https://localist-images.azureedge.net/photos/42241821362097/card/2df672dda2dbd1ddc52531f98842065734b9455a.jpg', 'primary_event_type': 'Student Life'}]\n"
          ]
        }
      ]
    },
    {
      "cell_type": "code",
      "source": [
        "from IPython.display import Image, display\n",
        "from datetime import datetime\n",
        "\n",
        "\n",
        "\n",
        "for event in events:\n",
        "    display(Image(url=event[\"img_url\"]))\n",
        "    print(\"Title:\", event[\"title\"])\n",
        "    print(\"Date Info:\", event[\"date_info\"])\n",
        "    print(\"Day:\", event[\"day\"])\n",
        "    print(\"Full Day:\", event[\"full_day\"])\n",
        "    date_string = \"Wed, Oct 11, 2023\"\n",
        "    parsed_date = datetime.strptime(date_string, \"%a, %b %d, %Y\")\n",
        "    year = parsed_date.year\n",
        "    extracted_date = parsed_date.date()\n",
        "    print(\"Date :\", extracted_date)\n",
        "    print(\"Start Time:\", event[\"start_time\"])\n",
        "    print(\"End Time:\", event[\"end_time\"])\n",
        "    print(\"Location:\", event[\"location\"])\n",
        "    print(\"Image URL:\", event[\"img_url\"])\n",
        "    print(\"Primary Event Type:\", event[\"primary_event_type\"])\n",
        "    print(\"-------------------\")\n"
      ],
      "metadata": {
        "id": "m1M9MAzo_X7g",
        "colab": {
          "base_uri": "https://localhost:8080/",
          "height": 1000
        },
        "outputId": "33dd64f9-b4e1-4b97-9bf2-c43354704d0c"
      },
      "execution_count": 9,
      "outputs": [
        {
          "output_type": "display_data",
          "data": {
            "text/html": [
              "<img src=\"https://localist-images.azureedge.net/photos/42405866472615/card/2cb2537c5ee68a257d449754bc3c8efb6e16c9e5.jpg\"/>"
            ],
            "text/plain": [
              "<IPython.core.display.Image object>"
            ]
          },
          "metadata": {}
        },
        {
          "output_type": "stream",
          "name": "stdout",
          "text": [
            "Title: Last day to add a course on GWeb\n",
            "Date Info: Sun, Jan 28, 2024\n",
            "Day: Sun\n",
            "Full Day: Sunday\n",
            "Date : 2023-10-11\n",
            "Start Time: None\n",
            "End Time: None\n",
            "Location: NONE\n",
            "Image URL: https://localist-images.azureedge.net/photos/42405866472615/card/2cb2537c5ee68a257d449754bc3c8efb6e16c9e5.jpg\n",
            "Primary Event Type: N/A\n",
            "-------------------\n"
          ]
        },
        {
          "output_type": "display_data",
          "data": {
            "text/html": [
              "<img src=\"https://localist-images.azureedge.net/photos/42241821362097/card/2df672dda2dbd1ddc52531f98842065734b9455a.jpg\"/>"
            ],
            "text/plain": [
              "<IPython.core.display.Image object>"
            ]
          },
          "metadata": {}
        },
        {
          "output_type": "stream",
          "name": "stdout",
          "text": [
            "Title: ADPS Spring 2024 Recruitment- DuPont Farmer’s Market Trip\n",
            "Date Info: Sun, Jan 28, 2024 10am to 12pm\n",
            "Day: Sun\n",
            "Full Day: Sunday\n",
            "Date : 2023-10-11\n",
            "Start Time: 10am\n",
            "End Time: 12pm\n",
            "Location: Kogan Plaza Clocktower\n",
            "Image URL: https://localist-images.azureedge.net/photos/42241821362097/card/2df672dda2dbd1ddc52531f98842065734b9455a.jpg\n",
            "Primary Event Type: Student Life\n",
            "-------------------\n"
          ]
        },
        {
          "output_type": "display_data",
          "data": {
            "text/html": [
              "<img src=\"https://localist-images.azureedge.net/photos/42241821362097/card/2df672dda2dbd1ddc52531f98842065734b9455a.jpg\"/>"
            ],
            "text/plain": [
              "<IPython.core.display.Image object>"
            ]
          },
          "metadata": {}
        },
        {
          "output_type": "stream",
          "name": "stdout",
          "text": [
            "Title: Sip & Study\n",
            "Date Info: Sun, Jan 28, 2024 12pm to 2pm\n",
            "Day: Sun\n",
            "Full Day: Sunday\n",
            "Date : 2023-10-11\n",
            "Start Time: 12pm\n",
            "End Time: 2pm\n",
            "Location: Strong Hall Common Room\n",
            "Image URL: https://localist-images.azureedge.net/photos/42241821362097/card/2df672dda2dbd1ddc52531f98842065734b9455a.jpg\n",
            "Primary Event Type: Student Life\n",
            "-------------------\n"
          ]
        },
        {
          "output_type": "display_data",
          "data": {
            "text/html": [
              "<img src=\"https://localist-images.azureedge.net/photos/45390290708542/card/20123b4fa9bec1e61666c70242d307c4bd3f9921.jpg\"/>"
            ],
            "text/plain": [
              "<IPython.core.display.Image object>"
            ]
          },
          "metadata": {}
        },
        {
          "output_type": "stream",
          "name": "stdout",
          "text": [
            "Title: Anchor Sunday Gathering\n",
            "Date Info: Sun, Jan 28, 2024 12:15pm to 2pm\n",
            "Day: Sun\n",
            "Full Day: Sunday\n",
            "Date : 2023-10-11\n",
            "Start Time: 12:15pm\n",
            "End Time: 2pm\n",
            "Location: USC 310\n",
            "Image URL: https://localist-images.azureedge.net/photos/45390290708542/card/20123b4fa9bec1e61666c70242d307c4bd3f9921.jpg\n",
            "Primary Event Type: Student Life\n",
            "-------------------\n"
          ]
        },
        {
          "output_type": "display_data",
          "data": {
            "text/html": [
              "<img src=\"https://localist-images.azureedge.net/photos/42241821362097/card/2df672dda2dbd1ddc52531f98842065734b9455a.jpg\"/>"
            ],
            "text/plain": [
              "<IPython.core.display.Image object>"
            ]
          },
          "metadata": {}
        },
        {
          "output_type": "stream",
          "name": "stdout",
          "text": [
            "Title: Info Session #5\n",
            "Date Info: Sun, Jan 28, 2024 1pm to 2pm\n",
            "Day: Sun\n",
            "Full Day: Sunday\n",
            "Date : 2023-10-11\n",
            "Start Time: 1pm\n",
            "End Time: 2pm\n",
            "Location: Funger Hall 221\n",
            "Image URL: https://localist-images.azureedge.net/photos/42241821362097/card/2df672dda2dbd1ddc52531f98842065734b9455a.jpg\n",
            "Primary Event Type: Student Life\n",
            "-------------------\n"
          ]
        },
        {
          "output_type": "display_data",
          "data": {
            "text/html": [
              "<img src=\"https://localist-images.azureedge.net/photos/45390292750541/card/770cd8ae554b747dceac8c1ff2830ce195bc9d21.jpg\"/>"
            ],
            "text/plain": [
              "<IPython.core.display.Image object>"
            ]
          },
          "metadata": {}
        },
        {
          "output_type": "stream",
          "name": "stdout",
          "text": [
            "Title: Soulful Sundays\n",
            "Date Info: Sun, Jan 28, 2024 5pm to 7pm\n",
            "Day: Sun\n",
            "Full Day: Sunday\n",
            "Date : 2023-10-11\n",
            "Start Time: 5pm\n",
            "End Time: 7pm\n",
            "Location: Thurston Hall\n",
            "Image URL: https://localist-images.azureedge.net/photos/45390292750541/card/770cd8ae554b747dceac8c1ff2830ce195bc9d21.jpg\n",
            "Primary Event Type: Student Life\n",
            "-------------------\n"
          ]
        },
        {
          "output_type": "display_data",
          "data": {
            "text/html": [
              "<img src=\"https://localist-images.azureedge.net/photos/44826667500769/card/5d3a18c52d59a98546beb2cf322eb2937872eed1.jpg\"/>"
            ],
            "text/plain": [
              "<IPython.core.display.Image object>"
            ]
          },
          "metadata": {}
        },
        {
          "output_type": "stream",
          "name": "stdout",
          "text": [
            "Title: Ballimaaran - The Piyush Mishra Project\n",
            "Date Info: Sun, Jan 28, 2024 6pm to 7:30pm\n",
            "Day: Sun\n",
            "Full Day: Sunday\n",
            "Date : 2023-10-11\n",
            "Start Time: 6pm\n",
            "End Time: 7:30pm\n",
            "Location: Lisner Auditorium\n",
            "Image URL: https://localist-images.azureedge.net/photos/44826667500769/card/5d3a18c52d59a98546beb2cf322eb2937872eed1.jpg\n",
            "Primary Event Type: Arts & Culture\n",
            "-------------------\n"
          ]
        },
        {
          "output_type": "display_data",
          "data": {
            "text/html": [
              "<img src=\"https://localist-images.azureedge.net/photos/45469924693794/card/ca2569056ea6a6af33761fd8eece62853f95fb66.jpg\"/>"
            ],
            "text/plain": [
              "<IPython.core.display.Image object>"
            ]
          },
          "metadata": {}
        },
        {
          "output_type": "stream",
          "name": "stdout",
          "text": [
            "Title: FAM (Food After Mass)\n",
            "Date Info: Sun, Jan 28, 2024 6:30pm to 7:30pm\n",
            "Day: Sun\n",
            "Full Day: Sunday\n",
            "Date : 2023-10-11\n",
            "Start Time: 6:30pm\n",
            "End Time: 7:30pm\n",
            "Location: St Stephen-Martyr Church\n",
            "Image URL: https://localist-images.azureedge.net/photos/45469924693794/card/ca2569056ea6a6af33761fd8eece62853f95fb66.jpg\n",
            "Primary Event Type: Student Life\n",
            "-------------------\n"
          ]
        },
        {
          "output_type": "display_data",
          "data": {
            "text/html": [
              "<img src=\"https://localist-images.azureedge.net/photos/45390290797637/card/59a3fafef3aa2496b7c0792b7f134bc635d5e4c9.jpg\"/>"
            ],
            "text/plain": [
              "<IPython.core.display.Image object>"
            ]
          },
          "metadata": {}
        },
        {
          "output_type": "stream",
          "name": "stdout",
          "text": [
            "Title: SAGA asian american bible study\n",
            "Date Info: Sun, Jan 28, 2024 7pm to 8pm\n",
            "Day: Sun\n",
            "Full Day: Sunday\n",
            "Date : 2023-10-11\n",
            "Start Time: 7pm\n",
            "End Time: 8pm\n",
            "Location: District B206\n",
            "Image URL: https://localist-images.azureedge.net/photos/45390290797637/card/59a3fafef3aa2496b7c0792b7f134bc635d5e4c9.jpg\n",
            "Primary Event Type: Student Life\n",
            "-------------------\n"
          ]
        },
        {
          "output_type": "display_data",
          "data": {
            "text/html": [
              "<img src=\"https://localist-images.azureedge.net/photos/42305185448931/card/4c14b36d37de8f24bc761c75d2697e47dc111e9d.jpg\"/>"
            ],
            "text/plain": [
              "<IPython.core.display.Image object>"
            ]
          },
          "metadata": {}
        },
        {
          "output_type": "stream",
          "name": "stdout",
          "text": [
            "Title: 2024 Inclusive Excellence Week at the Elliott School of International Affairs\n",
            "Date Info: Mon, Jan 29, 2024 - Thu, Feb 1, 2024\n",
            "Day: Mon\n",
            "Full Day: Monday\n",
            "Date : 2023-10-11\n",
            "Start Time: None\n",
            "End Time: None\n",
            "Location: 1957 E Street NW\n",
            "Image URL: https://localist-images.azureedge.net/photos/42305185448931/card/4c14b36d37de8f24bc761c75d2697e47dc111e9d.jpg\n",
            "Primary Event Type: Academic\n",
            "-------------------\n"
          ]
        },
        {
          "output_type": "display_data",
          "data": {
            "text/html": [
              "<img src=\"https://localist-images.azureedge.net/photos/42305185448931/card/4c14b36d37de8f24bc761c75d2697e47dc111e9d.jpg\"/>"
            ],
            "text/plain": [
              "<IPython.core.display.Image object>"
            ]
          },
          "metadata": {}
        },
        {
          "output_type": "stream",
          "name": "stdout",
          "text": [
            "Title: Elliott School Graduate Programs In-Person Information Session\n",
            "Date Info: Mon, Jan 29, 2024 11am to 12pm\n",
            "Day: Mon\n",
            "Full Day: Monday\n",
            "Date : 2023-10-11\n",
            "Start Time: 11am\n",
            "End Time: 12pm\n",
            "Location: 1957 E Street NW, Suite 301\n",
            "Image URL: https://localist-images.azureedge.net/photos/42305185448931/card/4c14b36d37de8f24bc761c75d2697e47dc111e9d.jpg\n",
            "Primary Event Type: Admissions\n",
            "-------------------\n"
          ]
        },
        {
          "output_type": "display_data",
          "data": {
            "text/html": [
              "<img src=\"https://localist-images.azureedge.net/photos/45455774153197/card/9d51a1a4a36ae7f5804736f67741af189658da26.jpg\"/>"
            ],
            "text/plain": [
              "<IPython.core.display.Image object>"
            ]
          },
          "metadata": {}
        },
        {
          "output_type": "stream",
          "name": "stdout",
          "text": [
            "Title: SNA Lunch & Learn: Inova Health at GW Nursing\n",
            "Date Info: Mon, Jan 29, 2024 11:30am to 12:30pm\n",
            "Day: Mon\n",
            "Full Day: Monday\n",
            "Date : 2023-10-11\n",
            "Start Time: 11:30am\n",
            "End Time: 12:30pm\n",
            "Location: Innovation Hall, Lobby\n",
            "Image URL: https://localist-images.azureedge.net/photos/45455774153197/card/9d51a1a4a36ae7f5804736f67741af189658da26.jpg\n",
            "Primary Event Type: Academic\n",
            "-------------------\n"
          ]
        },
        {
          "output_type": "display_data",
          "data": {
            "text/html": [
              "<img src=\"https://localist-images.azureedge.net/photos/45259818139121/card/279d4c78903fefa57839b341ec97d7bf42eb8e7c.jpg\"/>"
            ],
            "text/plain": [
              "<IPython.core.display.Image object>"
            ]
          },
          "metadata": {}
        },
        {
          "output_type": "stream",
          "name": "stdout",
          "text": [
            "Title: GW Nursing Student Club Fair\n",
            "Date Info: Mon, Jan 29, 2024 12pm to 1pm\n",
            "Day: Mon\n",
            "Full Day: Monday\n",
            "Date : 2023-10-11\n",
            "Start Time: 12pm\n",
            "End Time: 1pm\n",
            "Location: Innovation Hall, Lobby\n",
            "Image URL: https://localist-images.azureedge.net/photos/45259818139121/card/279d4c78903fefa57839b341ec97d7bf42eb8e7c.jpg\n",
            "Primary Event Type: Student Organizations\n",
            "-------------------\n"
          ]
        },
        {
          "output_type": "display_data",
          "data": {
            "text/html": [
              "<img src=\"https://localist-images.azureedge.net/photos/45346024287380/card/d2d1baab10da7e8c320585e3fc81301fa8582470.jpg\"/>"
            ],
            "text/plain": [
              "<IPython.core.display.Image object>"
            ]
          },
          "metadata": {}
        },
        {
          "output_type": "stream",
          "name": "stdout",
          "text": [
            "Title: Spring Recruitment Fraternity Rush\n",
            "Date Info: Mon, Jan 29, 2024 12pm to 12pm\n",
            "Day: Mon\n",
            "Full Day: Monday\n",
            "Date : 2023-10-11\n",
            "Start Time: 12pm\n",
            "End Time: 12pm\n",
            "Location: University Student Center\n",
            "Image URL: https://localist-images.azureedge.net/photos/45346024287380/card/d2d1baab10da7e8c320585e3fc81301fa8582470.jpg\n",
            "Primary Event Type: Student Life\n",
            "-------------------\n"
          ]
        },
        {
          "output_type": "display_data",
          "data": {
            "text/html": [
              "<img src=\"https://localist-images.azureedge.net/photos/45376815846861/card/c9d1963032802384aeacbecd3f7b945d29cef434.jpg\"/>"
            ],
            "text/plain": [
              "<IPython.core.display.Image object>"
            ]
          },
          "metadata": {}
        },
        {
          "output_type": "stream",
          "name": "stdout",
          "text": [
            "Title: Microeconomic Seminar: Taha Choukhmane, MIT Sloan\n",
            "Date Info: Mon, Jan 29, 2024 12:30pm to 2pm\n",
            "Day: Mon\n",
            "Full Day: Monday\n",
            "Date : 2023-10-11\n",
            "Start Time: 12:30pm\n",
            "End Time: 2pm\n",
            "Location: Hall of Government, 321\n",
            "Image URL: https://localist-images.azureedge.net/photos/45376815846861/card/c9d1963032802384aeacbecd3f7b945d29cef434.jpg\n",
            "Primary Event Type: Academic\n",
            "-------------------\n"
          ]
        },
        {
          "output_type": "display_data",
          "data": {
            "text/html": [
              "<img src=\"https://localist-images.azureedge.net/photos/44933226606010/card/887bc6f9a99169012ee476cb45f6a90d2e6d317f.jpg\"/>"
            ],
            "text/plain": [
              "<IPython.core.display.Image object>"
            ]
          },
          "metadata": {}
        },
        {
          "output_type": "stream",
          "name": "stdout",
          "text": [
            "Title: Everything is Fine\n",
            "Date Info: Mon, Jan 29, 2024 1pm to 5pm\n",
            "Day: Mon\n",
            "Full Day: Monday\n",
            "Date : 2023-10-11\n",
            "Start Time: 1pm\n",
            "End Time: 5pm\n",
            "Location: Flagg Building, Gallery 11\n",
            "Image URL: https://localist-images.azureedge.net/photos/44933226606010/card/887bc6f9a99169012ee476cb45f6a90d2e6d317f.jpg\n",
            "Primary Event Type: Arts & Culture\n",
            "-------------------\n"
          ]
        },
        {
          "output_type": "display_data",
          "data": {
            "text/html": [
              "<img src=\"https://localist-images.azureedge.net/photos/45434558609297/card/edec7d5b0f132e606fbd0f431be678916ea5834a.jpg\"/>"
            ],
            "text/plain": [
              "<IPython.core.display.Image object>"
            ]
          },
          "metadata": {}
        },
        {
          "output_type": "stream",
          "name": "stdout",
          "text": [
            "Title: Introduction to Python Programming\n",
            "Date Info: Mon, Jan 29, 2024 1pm to 3:45pm\n",
            "Day: Mon\n",
            "Full Day: Monday\n",
            "Date : 2023-10-11\n",
            "Start Time: 1pm\n",
            "End Time: 3:45pm\n",
            "Location: Gelman Library\n",
            "Image URL: https://localist-images.azureedge.net/photos/45434558609297/card/edec7d5b0f132e606fbd0f431be678916ea5834a.jpg\n",
            "Primary Event Type: N/A\n",
            "-------------------\n"
          ]
        },
        {
          "output_type": "display_data",
          "data": {
            "text/html": [
              "<img src=\"https://localist-images.azureedge.net/photos/45434564726917/card/66c5cbd3434982799ac9810c0c7469bd55a4e416.jpg\"/>"
            ],
            "text/plain": [
              "<IPython.core.display.Image object>"
            ]
          },
          "metadata": {}
        },
        {
          "output_type": "stream",
          "name": "stdout",
          "text": [
            "Title: Using Classroom Assessment Techniques (CATs) to Increase Engagement\n",
            "Date Info: Mon, Jan 29, 2024 2pm to 3pm\n",
            "Day: Mon\n",
            "Full Day: Monday\n",
            "Date : 2023-10-11\n",
            "Start Time: 2pm\n",
            "End Time: 3pm\n",
            "Location: Gelman Library\n",
            "Image URL: https://localist-images.azureedge.net/photos/45434564726917/card/66c5cbd3434982799ac9810c0c7469bd55a4e416.jpg\n",
            "Primary Event Type: N/A\n",
            "-------------------\n"
          ]
        },
        {
          "output_type": "display_data",
          "data": {
            "text/html": [
              "<img src=\"https://localist-images.azureedge.net/photos/45310580777934/card/1412e18df39184d4ec64f26991d77d1c1b9d09c6.jpg\"/>"
            ],
            "text/plain": [
              "<IPython.core.display.Image object>"
            ]
          },
          "metadata": {}
        },
        {
          "output_type": "stream",
          "name": "stdout",
          "text": [
            "Title: Weekly Meditation Workshop\n",
            "Date Info: Mon, Jan 29, 2024 2pm to 4pm\n",
            "Day: Mon\n",
            "Full Day: Monday\n",
            "Date : 2023-10-11\n",
            "Start Time: 2pm\n",
            "End Time: 4pm\n",
            "Location: University Student Center\n",
            "Image URL: https://localist-images.azureedge.net/photos/45310580777934/card/1412e18df39184d4ec64f26991d77d1c1b9d09c6.jpg\n",
            "Primary Event Type: Student Life\n",
            "-------------------\n"
          ]
        },
        {
          "output_type": "display_data",
          "data": {
            "text/html": [
              "<img src=\"https://localist-images.azureedge.net/photos/45092255779752/card/018e129e9bd455f8358c35ebda63be08253ab4de.jpg\"/>"
            ],
            "text/plain": [
              "<IPython.core.display.Image object>"
            ]
          },
          "metadata": {}
        },
        {
          "output_type": "stream",
          "name": "stdout",
          "text": [
            "Title: GWSB 4+1 Information Session & Webinar\n",
            "Date Info: Mon, Jan 29, 2024 5:30pm to 6pm\n",
            "Day: Mon\n",
            "Full Day: Monday\n",
            "Date : 2023-10-11\n",
            "Start Time: 5:30pm\n",
            "End Time: 6pm\n",
            "Location: Virtual Event\n",
            "Image URL: https://localist-images.azureedge.net/photos/45092255779752/card/018e129e9bd455f8358c35ebda63be08253ab4de.jpg\n",
            "Primary Event Type: Admissions\n",
            "-------------------\n"
          ]
        },
        {
          "output_type": "display_data",
          "data": {
            "text/html": [
              "<img src=\"https://localist-images.azureedge.net/photos/42241821362097/card/2df672dda2dbd1ddc52531f98842065734b9455a.jpg\"/>"
            ],
            "text/plain": [
              "<IPython.core.display.Image object>"
            ]
          },
          "metadata": {}
        },
        {
          "output_type": "stream",
          "name": "stdout",
          "text": [
            "Title: Info Session #6\n",
            "Date Info: Mon, Jan 29, 2024 6pm to 7pm\n",
            "Day: Mon\n",
            "Full Day: Monday\n",
            "Date : 2023-10-11\n",
            "Start Time: 6pm\n",
            "End Time: 7pm\n",
            "Location: West Hall B111\n",
            "Image URL: https://localist-images.azureedge.net/photos/42241821362097/card/2df672dda2dbd1ddc52531f98842065734b9455a.jpg\n",
            "Primary Event Type: Student Life\n",
            "-------------------\n"
          ]
        }
      ]
    },
    {
      "cell_type": "code",
      "source": [
        "from pandas import DataFrame\n",
        "\n",
        "events_df = DataFrame(events)\n",
        "events_df.head()\n",
        "\n"
      ],
      "metadata": {
        "colab": {
          "base_uri": "https://localhost:8080/",
          "height": 206
        },
        "id": "uGkZOaXcH3lR",
        "outputId": "fef74cac-14e3-4365-808a-4e3c68da94d5"
      },
      "execution_count": 10,
      "outputs": [
        {
          "output_type": "execute_result",
          "data": {
            "text/plain": [
              "                                               title  \\\n",
              "0                   Last day to add a course on GWeb   \n",
              "1  ADPS Spring 2024 Recruitment- DuPont Farmer’s ...   \n",
              "2                                        Sip & Study   \n",
              "3                            Anchor Sunday Gathering   \n",
              "4                                    Info Session #5   \n",
              "\n",
              "                          date_info  day full_day  date start_time end_time  \\\n",
              "0                 Sun, Jan 28, 2024  Sun   Sunday    28       None     None   \n",
              "1    Sun, Jan 28, 2024 10am to 12pm  Sun   Sunday    28       10am     12pm   \n",
              "2     Sun, Jan 28, 2024 12pm to 2pm  Sun   Sunday    28       12pm      2pm   \n",
              "3  Sun, Jan 28, 2024 12:15pm to 2pm  Sun   Sunday    28    12:15pm      2pm   \n",
              "4      Sun, Jan 28, 2024 1pm to 2pm  Sun   Sunday    28        1pm      2pm   \n",
              "\n",
              "                  location                                            img_url  \\\n",
              "0                     NONE  https://localist-images.azureedge.net/photos/4...   \n",
              "1   Kogan Plaza Clocktower  https://localist-images.azureedge.net/photos/4...   \n",
              "2  Strong Hall Common Room  https://localist-images.azureedge.net/photos/4...   \n",
              "3                  USC 310  https://localist-images.azureedge.net/photos/4...   \n",
              "4          Funger Hall 221  https://localist-images.azureedge.net/photos/4...   \n",
              "\n",
              "  primary_event_type  \n",
              "0                N/A  \n",
              "1       Student Life  \n",
              "2       Student Life  \n",
              "3       Student Life  \n",
              "4       Student Life  "
            ],
            "text/html": [
              "\n",
              "  <div id=\"df-e0ee22a4-ddf4-4851-bb26-38aee7f9ce2f\" class=\"colab-df-container\">\n",
              "    <div>\n",
              "<style scoped>\n",
              "    .dataframe tbody tr th:only-of-type {\n",
              "        vertical-align: middle;\n",
              "    }\n",
              "\n",
              "    .dataframe tbody tr th {\n",
              "        vertical-align: top;\n",
              "    }\n",
              "\n",
              "    .dataframe thead th {\n",
              "        text-align: right;\n",
              "    }\n",
              "</style>\n",
              "<table border=\"1\" class=\"dataframe\">\n",
              "  <thead>\n",
              "    <tr style=\"text-align: right;\">\n",
              "      <th></th>\n",
              "      <th>title</th>\n",
              "      <th>date_info</th>\n",
              "      <th>day</th>\n",
              "      <th>full_day</th>\n",
              "      <th>date</th>\n",
              "      <th>start_time</th>\n",
              "      <th>end_time</th>\n",
              "      <th>location</th>\n",
              "      <th>img_url</th>\n",
              "      <th>primary_event_type</th>\n",
              "    </tr>\n",
              "  </thead>\n",
              "  <tbody>\n",
              "    <tr>\n",
              "      <th>0</th>\n",
              "      <td>Last day to add a course on GWeb</td>\n",
              "      <td>Sun, Jan 28, 2024</td>\n",
              "      <td>Sun</td>\n",
              "      <td>Sunday</td>\n",
              "      <td>28</td>\n",
              "      <td>None</td>\n",
              "      <td>None</td>\n",
              "      <td>NONE</td>\n",
              "      <td>https://localist-images.azureedge.net/photos/4...</td>\n",
              "      <td>N/A</td>\n",
              "    </tr>\n",
              "    <tr>\n",
              "      <th>1</th>\n",
              "      <td>ADPS Spring 2024 Recruitment- DuPont Farmer’s ...</td>\n",
              "      <td>Sun, Jan 28, 2024 10am to 12pm</td>\n",
              "      <td>Sun</td>\n",
              "      <td>Sunday</td>\n",
              "      <td>28</td>\n",
              "      <td>10am</td>\n",
              "      <td>12pm</td>\n",
              "      <td>Kogan Plaza Clocktower</td>\n",
              "      <td>https://localist-images.azureedge.net/photos/4...</td>\n",
              "      <td>Student Life</td>\n",
              "    </tr>\n",
              "    <tr>\n",
              "      <th>2</th>\n",
              "      <td>Sip &amp; Study</td>\n",
              "      <td>Sun, Jan 28, 2024 12pm to 2pm</td>\n",
              "      <td>Sun</td>\n",
              "      <td>Sunday</td>\n",
              "      <td>28</td>\n",
              "      <td>12pm</td>\n",
              "      <td>2pm</td>\n",
              "      <td>Strong Hall Common Room</td>\n",
              "      <td>https://localist-images.azureedge.net/photos/4...</td>\n",
              "      <td>Student Life</td>\n",
              "    </tr>\n",
              "    <tr>\n",
              "      <th>3</th>\n",
              "      <td>Anchor Sunday Gathering</td>\n",
              "      <td>Sun, Jan 28, 2024 12:15pm to 2pm</td>\n",
              "      <td>Sun</td>\n",
              "      <td>Sunday</td>\n",
              "      <td>28</td>\n",
              "      <td>12:15pm</td>\n",
              "      <td>2pm</td>\n",
              "      <td>USC 310</td>\n",
              "      <td>https://localist-images.azureedge.net/photos/4...</td>\n",
              "      <td>Student Life</td>\n",
              "    </tr>\n",
              "    <tr>\n",
              "      <th>4</th>\n",
              "      <td>Info Session #5</td>\n",
              "      <td>Sun, Jan 28, 2024 1pm to 2pm</td>\n",
              "      <td>Sun</td>\n",
              "      <td>Sunday</td>\n",
              "      <td>28</td>\n",
              "      <td>1pm</td>\n",
              "      <td>2pm</td>\n",
              "      <td>Funger Hall 221</td>\n",
              "      <td>https://localist-images.azureedge.net/photos/4...</td>\n",
              "      <td>Student Life</td>\n",
              "    </tr>\n",
              "  </tbody>\n",
              "</table>\n",
              "</div>\n",
              "    <div class=\"colab-df-buttons\">\n",
              "\n",
              "  <div class=\"colab-df-container\">\n",
              "    <button class=\"colab-df-convert\" onclick=\"convertToInteractive('df-e0ee22a4-ddf4-4851-bb26-38aee7f9ce2f')\"\n",
              "            title=\"Convert this dataframe to an interactive table.\"\n",
              "            style=\"display:none;\">\n",
              "\n",
              "  <svg xmlns=\"http://www.w3.org/2000/svg\" height=\"24px\" viewBox=\"0 -960 960 960\">\n",
              "    <path d=\"M120-120v-720h720v720H120Zm60-500h600v-160H180v160Zm220 220h160v-160H400v160Zm0 220h160v-160H400v160ZM180-400h160v-160H180v160Zm440 0h160v-160H620v160ZM180-180h160v-160H180v160Zm440 0h160v-160H620v160Z\"/>\n",
              "  </svg>\n",
              "    </button>\n",
              "\n",
              "  <style>\n",
              "    .colab-df-container {\n",
              "      display:flex;\n",
              "      gap: 12px;\n",
              "    }\n",
              "\n",
              "    .colab-df-convert {\n",
              "      background-color: #E8F0FE;\n",
              "      border: none;\n",
              "      border-radius: 50%;\n",
              "      cursor: pointer;\n",
              "      display: none;\n",
              "      fill: #1967D2;\n",
              "      height: 32px;\n",
              "      padding: 0 0 0 0;\n",
              "      width: 32px;\n",
              "    }\n",
              "\n",
              "    .colab-df-convert:hover {\n",
              "      background-color: #E2EBFA;\n",
              "      box-shadow: 0px 1px 2px rgba(60, 64, 67, 0.3), 0px 1px 3px 1px rgba(60, 64, 67, 0.15);\n",
              "      fill: #174EA6;\n",
              "    }\n",
              "\n",
              "    .colab-df-buttons div {\n",
              "      margin-bottom: 4px;\n",
              "    }\n",
              "\n",
              "    [theme=dark] .colab-df-convert {\n",
              "      background-color: #3B4455;\n",
              "      fill: #D2E3FC;\n",
              "    }\n",
              "\n",
              "    [theme=dark] .colab-df-convert:hover {\n",
              "      background-color: #434B5C;\n",
              "      box-shadow: 0px 1px 3px 1px rgba(0, 0, 0, 0.15);\n",
              "      filter: drop-shadow(0px 1px 2px rgba(0, 0, 0, 0.3));\n",
              "      fill: #FFFFFF;\n",
              "    }\n",
              "  </style>\n",
              "\n",
              "    <script>\n",
              "      const buttonEl =\n",
              "        document.querySelector('#df-e0ee22a4-ddf4-4851-bb26-38aee7f9ce2f button.colab-df-convert');\n",
              "      buttonEl.style.display =\n",
              "        google.colab.kernel.accessAllowed ? 'block' : 'none';\n",
              "\n",
              "      async function convertToInteractive(key) {\n",
              "        const element = document.querySelector('#df-e0ee22a4-ddf4-4851-bb26-38aee7f9ce2f');\n",
              "        const dataTable =\n",
              "          await google.colab.kernel.invokeFunction('convertToInteractive',\n",
              "                                                    [key], {});\n",
              "        if (!dataTable) return;\n",
              "\n",
              "        const docLinkHtml = 'Like what you see? Visit the ' +\n",
              "          '<a target=\"_blank\" href=https://colab.research.google.com/notebooks/data_table.ipynb>data table notebook</a>'\n",
              "          + ' to learn more about interactive tables.';\n",
              "        element.innerHTML = '';\n",
              "        dataTable['output_type'] = 'display_data';\n",
              "        await google.colab.output.renderOutput(dataTable, element);\n",
              "        const docLink = document.createElement('div');\n",
              "        docLink.innerHTML = docLinkHtml;\n",
              "        element.appendChild(docLink);\n",
              "      }\n",
              "    </script>\n",
              "  </div>\n",
              "\n",
              "\n",
              "<div id=\"df-47462a3e-b709-4460-82e6-53eedd979d63\">\n",
              "  <button class=\"colab-df-quickchart\" onclick=\"quickchart('df-47462a3e-b709-4460-82e6-53eedd979d63')\"\n",
              "            title=\"Suggest charts\"\n",
              "            style=\"display:none;\">\n",
              "\n",
              "<svg xmlns=\"http://www.w3.org/2000/svg\" height=\"24px\"viewBox=\"0 0 24 24\"\n",
              "     width=\"24px\">\n",
              "    <g>\n",
              "        <path d=\"M19 3H5c-1.1 0-2 .9-2 2v14c0 1.1.9 2 2 2h14c1.1 0 2-.9 2-2V5c0-1.1-.9-2-2-2zM9 17H7v-7h2v7zm4 0h-2V7h2v10zm4 0h-2v-4h2v4z\"/>\n",
              "    </g>\n",
              "</svg>\n",
              "  </button>\n",
              "\n",
              "<style>\n",
              "  .colab-df-quickchart {\n",
              "      --bg-color: #E8F0FE;\n",
              "      --fill-color: #1967D2;\n",
              "      --hover-bg-color: #E2EBFA;\n",
              "      --hover-fill-color: #174EA6;\n",
              "      --disabled-fill-color: #AAA;\n",
              "      --disabled-bg-color: #DDD;\n",
              "  }\n",
              "\n",
              "  [theme=dark] .colab-df-quickchart {\n",
              "      --bg-color: #3B4455;\n",
              "      --fill-color: #D2E3FC;\n",
              "      --hover-bg-color: #434B5C;\n",
              "      --hover-fill-color: #FFFFFF;\n",
              "      --disabled-bg-color: #3B4455;\n",
              "      --disabled-fill-color: #666;\n",
              "  }\n",
              "\n",
              "  .colab-df-quickchart {\n",
              "    background-color: var(--bg-color);\n",
              "    border: none;\n",
              "    border-radius: 50%;\n",
              "    cursor: pointer;\n",
              "    display: none;\n",
              "    fill: var(--fill-color);\n",
              "    height: 32px;\n",
              "    padding: 0;\n",
              "    width: 32px;\n",
              "  }\n",
              "\n",
              "  .colab-df-quickchart:hover {\n",
              "    background-color: var(--hover-bg-color);\n",
              "    box-shadow: 0 1px 2px rgba(60, 64, 67, 0.3), 0 1px 3px 1px rgba(60, 64, 67, 0.15);\n",
              "    fill: var(--button-hover-fill-color);\n",
              "  }\n",
              "\n",
              "  .colab-df-quickchart-complete:disabled,\n",
              "  .colab-df-quickchart-complete:disabled:hover {\n",
              "    background-color: var(--disabled-bg-color);\n",
              "    fill: var(--disabled-fill-color);\n",
              "    box-shadow: none;\n",
              "  }\n",
              "\n",
              "  .colab-df-spinner {\n",
              "    border: 2px solid var(--fill-color);\n",
              "    border-color: transparent;\n",
              "    border-bottom-color: var(--fill-color);\n",
              "    animation:\n",
              "      spin 1s steps(1) infinite;\n",
              "  }\n",
              "\n",
              "  @keyframes spin {\n",
              "    0% {\n",
              "      border-color: transparent;\n",
              "      border-bottom-color: var(--fill-color);\n",
              "      border-left-color: var(--fill-color);\n",
              "    }\n",
              "    20% {\n",
              "      border-color: transparent;\n",
              "      border-left-color: var(--fill-color);\n",
              "      border-top-color: var(--fill-color);\n",
              "    }\n",
              "    30% {\n",
              "      border-color: transparent;\n",
              "      border-left-color: var(--fill-color);\n",
              "      border-top-color: var(--fill-color);\n",
              "      border-right-color: var(--fill-color);\n",
              "    }\n",
              "    40% {\n",
              "      border-color: transparent;\n",
              "      border-right-color: var(--fill-color);\n",
              "      border-top-color: var(--fill-color);\n",
              "    }\n",
              "    60% {\n",
              "      border-color: transparent;\n",
              "      border-right-color: var(--fill-color);\n",
              "    }\n",
              "    80% {\n",
              "      border-color: transparent;\n",
              "      border-right-color: var(--fill-color);\n",
              "      border-bottom-color: var(--fill-color);\n",
              "    }\n",
              "    90% {\n",
              "      border-color: transparent;\n",
              "      border-bottom-color: var(--fill-color);\n",
              "    }\n",
              "  }\n",
              "</style>\n",
              "\n",
              "  <script>\n",
              "    async function quickchart(key) {\n",
              "      const quickchartButtonEl =\n",
              "        document.querySelector('#' + key + ' button');\n",
              "      quickchartButtonEl.disabled = true;  // To prevent multiple clicks.\n",
              "      quickchartButtonEl.classList.add('colab-df-spinner');\n",
              "      try {\n",
              "        const charts = await google.colab.kernel.invokeFunction(\n",
              "            'suggestCharts', [key], {});\n",
              "      } catch (error) {\n",
              "        console.error('Error during call to suggestCharts:', error);\n",
              "      }\n",
              "      quickchartButtonEl.classList.remove('colab-df-spinner');\n",
              "      quickchartButtonEl.classList.add('colab-df-quickchart-complete');\n",
              "    }\n",
              "    (() => {\n",
              "      let quickchartButtonEl =\n",
              "        document.querySelector('#df-47462a3e-b709-4460-82e6-53eedd979d63 button');\n",
              "      quickchartButtonEl.style.display =\n",
              "        google.colab.kernel.accessAllowed ? 'block' : 'none';\n",
              "    })();\n",
              "  </script>\n",
              "</div>\n",
              "    </div>\n",
              "  </div>\n"
            ]
          },
          "metadata": {},
          "execution_count": 10
        }
      ]
    },
    {
      "cell_type": "code",
      "source": [
        "from pandas import DataFrame\n",
        "from datetime import datetime\n",
        "import pandas as pd\n",
        "\n",
        "events_df = DataFrame(events)\n",
        "\n",
        "\n",
        "print(\"COLUMN NAME : \")\n",
        "print(events_df.columns)\n",
        "\n",
        "print(\"--------------------------------------\")\n",
        "\n",
        "print(\"\\nNUMBER OF ROWS : \", len(events_df))\n",
        "\n",
        "print(\"--------------------------------------\")\n",
        "\n",
        "print(\"\\nFIRST ROWS : \")\n",
        "print(events_df.head())\n",
        "\n",
        "print(\"--------------------------------------\")\n",
        "\n",
        "\n",
        "events_df['start_time'] = pd.to_datetime(events_df['start_time'], errors='coerce')\n",
        "events_df['end_time'] = pd.to_datetime(events_df['end_time'], errors='coerce')\n",
        "\n",
        "print(\"--------------------------------------\")\n",
        "\n",
        "earliest_start_time = events_df['start_time'].min()\n",
        "print(\"\\nEarliest Start Time:\", earliest_start_time)\n",
        "\n",
        "print(\"--------------------------------------\")\n",
        "\n",
        "latest_end_time = events_df['end_time'].max()\n",
        "print(\"Latest End Time:\", latest_end_time)\n",
        "\n",
        "\n",
        "\n",
        "\n",
        "\n",
        "\n"
      ],
      "metadata": {
        "colab": {
          "base_uri": "https://localhost:8080/"
        },
        "id": "naNvMYQQ2z_w",
        "outputId": "b284f5a0-bc5e-417e-8711-a6e974314d3c"
      },
      "execution_count": 11,
      "outputs": [
        {
          "output_type": "stream",
          "name": "stdout",
          "text": [
            "COLUMN NAME : \n",
            "Index(['title', 'date_info', 'day', 'full_day', 'date', 'start_time',\n",
            "       'end_time', 'location', 'img_url', 'primary_event_type'],\n",
            "      dtype='object')\n",
            "--------------------------------------\n",
            "\n",
            "NUMBER OF ROWS :  21\n",
            "--------------------------------------\n",
            "\n",
            "FIRST ROWS : \n",
            "                                               title  \\\n",
            "0                   Last day to add a course on GWeb   \n",
            "1  ADPS Spring 2024 Recruitment- DuPont Farmer’s ...   \n",
            "2                                        Sip & Study   \n",
            "3                            Anchor Sunday Gathering   \n",
            "4                                    Info Session #5   \n",
            "\n",
            "                          date_info  day full_day  date start_time end_time  \\\n",
            "0                 Sun, Jan 28, 2024  Sun   Sunday    28       None     None   \n",
            "1    Sun, Jan 28, 2024 10am to 12pm  Sun   Sunday    28       10am     12pm   \n",
            "2     Sun, Jan 28, 2024 12pm to 2pm  Sun   Sunday    28       12pm      2pm   \n",
            "3  Sun, Jan 28, 2024 12:15pm to 2pm  Sun   Sunday    28    12:15pm      2pm   \n",
            "4      Sun, Jan 28, 2024 1pm to 2pm  Sun   Sunday    28        1pm      2pm   \n",
            "\n",
            "                  location                                            img_url  \\\n",
            "0                     NONE  https://localist-images.azureedge.net/photos/4...   \n",
            "1   Kogan Plaza Clocktower  https://localist-images.azureedge.net/photos/4...   \n",
            "2  Strong Hall Common Room  https://localist-images.azureedge.net/photos/4...   \n",
            "3                  USC 310  https://localist-images.azureedge.net/photos/4...   \n",
            "4          Funger Hall 221  https://localist-images.azureedge.net/photos/4...   \n",
            "\n",
            "  primary_event_type  \n",
            "0                N/A  \n",
            "1       Student Life  \n",
            "2       Student Life  \n",
            "3       Student Life  \n",
            "4       Student Life  \n",
            "--------------------------------------\n",
            "--------------------------------------\n",
            "\n",
            "Earliest Start Time: 2024-01-28 11:30:00\n",
            "--------------------------------------\n",
            "Latest End Time: 2024-01-28 19:30:00\n"
          ]
        }
      ]
    },
    {
      "cell_type": "code",
      "source": [
        "events_df.to_csv(\"events.csv\")"
      ],
      "metadata": {
        "id": "E5_mC75FKPW2"
      },
      "execution_count": 12,
      "outputs": []
    },
    {
      "cell_type": "code",
      "source": [
        "import requests\n",
        "from bs4 import BeautifulSoup\n",
        "from datetime import datetime\n",
        "\n",
        "def fetch_events(selected_date=None):\n",
        "    if selected_date is None:\n",
        "        selected_date = datetime.now().strftime(\"%Y-%m-%d\")\n",
        "\n",
        "    EVENTS_PAGE_URL = f\"https://calendar.gwu.edu/calendar/day/{selected_date}\"\n",
        "    response = requests.get(EVENTS_PAGE_URL)\n",
        "    soup = BeautifulSoup(response.text, \"html.parser\")\n",
        "\n",
        "    def times_split(time_str):\n",
        "        tm = []\n",
        "        time_ele = time_str.split()\n",
        "        for t in time_ele:\n",
        "            if \"am\" in t.lower() or \"pm\" in t.lower():\n",
        "                tm.append(t)\n",
        "        if len(tm) >= 2:\n",
        "            start_time = tm[0]\n",
        "            end_time = tm[1]\n",
        "            return start_time, end_time\n",
        "        else:\n",
        "            return None, None\n",
        "\n",
        "    eventlist = soup.find_all(\"div\", class_=\"em-card_text\")\n",
        "    events = []\n",
        "\n",
        "    for event in eventlist:\n",
        "        event_dict = {}\n",
        "        title = event.find(\"h3\", class_=\"em-card_title\").text\n",
        "        date_elem = event.find(\"p\", class_=\"em-card_event-text\")\n",
        "\n",
        "        for d in date_elem:\n",
        "            date_info=d.strip()\n",
        "\n",
        "        if date_elem:\n",
        "            try:\n",
        "                datestr = date_elem.text.strip()\n",
        "                datesp = datestr.split(\",\")\n",
        "                if len(datesp) > 1:\n",
        "                    day = datesp[0].strip()\n",
        "                    date_no = datesp[1].strip()\n",
        "                else:\n",
        "                    day = \"NONE\"\n",
        "                    date_no = \"NONE\"\n",
        "            except:\n",
        "                print(\"Error parsing date\")\n",
        "        else:\n",
        "            day = \"NONE\"\n",
        "            date_no = \"NONE\"\n",
        "\n",
        "        start_time, end_time = times_split(datestr)\n",
        "\n",
        "        p_tags = event.find_all(\"p\", class_=\"em-card_event-text\")\n",
        "\n",
        "        if len(p_tags) > 1:\n",
        "            location_text = p_tags[1].text.strip()\n",
        "        else:\n",
        "            location_text = \"NONE\"\n",
        "\n",
        "        image_div = event.find_previous(\"div\", class_=\"em-card_image\")\n",
        "        if image_div:\n",
        "            img_tag = image_div.find(\"img\")\n",
        "            if img_tag:\n",
        "                img_url = img_tag[\"src\"]\n",
        "                display(Image(url=img_url))\n",
        "\n",
        "\n",
        "\n",
        "        event_tags = []\n",
        "        for et in event.find_all('a', class_='em-card_tag'):\n",
        "            if any(c.isalpha() for c in et.text):\n",
        "                event_tags.append(et.text)\n",
        "\n",
        "        primary_event_type = ', '.join(event_tags) if event_tags else \"N/A\"\n",
        "\n",
        "        event_dict[\"title\"] = title\n",
        "        event_dict[\"date_info\"] = date_info\n",
        "        event_dict[\"day\"] = day\n",
        "        event_dict[\"date\"] = date_no\n",
        "        event_dict[\"start_time\"] = start_time\n",
        "        event_dict[\"end_time\"] = end_time\n",
        "        event_dict[\"location\"] = location_text\n",
        "        event_dict[\"img_url\"] = img_url\n",
        "        event_dict[\"primary_event_type\"] = primary_event_type\n",
        "\n",
        "        events.append(event_dict)\n",
        "\n",
        "    return events"
      ],
      "metadata": {
        "id": "S2JE3bzwPH2n"
      },
      "execution_count": 13,
      "outputs": []
    }
  ]
}